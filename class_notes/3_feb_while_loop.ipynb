{
 "cells": [
  {
   "cell_type": "code",
   "execution_count": 1,
   "id": "6787c534",
   "metadata": {},
   "outputs": [
    {
     "name": "stdout",
     "output_type": "stream",
     "text": [
      "1\n",
      "2\n",
      "3\n",
      "4\n",
      "5\n",
      "6\n",
      "7\n",
      "8\n",
      "9\n",
      "10\n"
     ]
    }
   ],
   "source": [
    "a=1\n",
    "while a<=10:\n",
    "    print(a)\n",
    "    a=a+1"
   ]
  },
  {
   "cell_type": "code",
   "execution_count": 2,
   "id": "aefbc044",
   "metadata": {},
   "outputs": [],
   "source": [
    "#sum of the number till some point"
   ]
  },
  {
   "cell_type": "code",
   "execution_count": 3,
   "id": "6222a653",
   "metadata": {},
   "outputs": [
    {
     "name": "stdout",
     "output_type": "stream",
     "text": [
      "enter the number you want to sum 10\n",
      "55\n"
     ]
    }
   ],
   "source": [
    "n=int(input(\"enter the number you want to sum \"))\n",
    "a=1\n",
    "s=0\n",
    "while a<=n:\n",
    "    s=s+a\n",
    "    a=a+1\n",
    "print(s)"
   ]
  },
  {
   "cell_type": "code",
   "execution_count": 4,
   "id": "9760c6cb",
   "metadata": {},
   "outputs": [
    {
     "name": "stdout",
     "output_type": "stream",
     "text": [
      "enter the number 10\n",
      "3628800\n"
     ]
    }
   ],
   "source": [
    "## factorial of number\n",
    "fact=1\n",
    "a=1\n",
    "number=int(input(\"enter the number \"))\n",
    "while a<=number:\n",
    "    fact=fact*a\n",
    "    a=a+1\n",
    "print(fact)"
   ]
  },
  {
   "cell_type": "code",
   "execution_count": 5,
   "id": "e318763a",
   "metadata": {},
   "outputs": [
    {
     "name": "stdout",
     "output_type": "stream",
     "text": [
      "enter the number 10\n",
      "3628800\n"
     ]
    }
   ],
   "source": [
    "number=int(input(\"enter the number \"))\n",
    "fact=1;\n",
    "while number>0:\n",
    "    fact=fact*number\n",
    "    number=number-1\n",
    "print(fact)"
   ]
  },
  {
   "cell_type": "code",
   "execution_count": 6,
   "id": "13e8a1b6",
   "metadata": {},
   "outputs": [],
   "source": [
    "## fibonaci series"
   ]
  },
  {
   "cell_type": "code",
   "execution_count": 7,
   "id": "76dab085",
   "metadata": {},
   "outputs": [
    {
     "name": "stdout",
     "output_type": "stream",
     "text": [
      "enter the number 10\n",
      "[0, 1, 1, 2, 3, 5, 8, 13, 21, 34]\n"
     ]
    }
   ],
   "source": [
    "t1=0\n",
    "t2=1\n",
    "a=0\n",
    "itr=3\n",
    "l=[]\n",
    "l.append(t1)\n",
    "l.append(t2)\n",
    "number=int(input(\"enter the number \"))\n",
    "while itr<=number:\n",
    "    a=t1+t2\n",
    "    l.append(a)\n",
    "    t1=t2\n",
    "    t2=a\n",
    "    itr=itr+1\n",
    "print(l)"
   ]
  },
  {
   "cell_type": "code",
   "execution_count": 8,
   "id": "a3939ae6",
   "metadata": {},
   "outputs": [
    {
     "name": "stdout",
     "output_type": "stream",
     "text": [
      "0\n",
      "1\n",
      "1\n",
      "2\n",
      "3\n",
      "5\n",
      "8\n",
      "13\n",
      "21\n",
      "34\n"
     ]
    }
   ],
   "source": [
    "## using for loop\n",
    "a,b=0,1\n",
    "for i in range(10):\n",
    "    \n",
    "    print(a)\n",
    "    c=a+b\n",
    "    a=b\n",
    "    b=c"
   ]
  },
  {
   "cell_type": "code",
   "execution_count": 9,
   "id": "82582fe7",
   "metadata": {},
   "outputs": [
    {
     "data": {
      "text/plain": [
       "'hdus'"
      ]
     },
     "execution_count": 9,
     "metadata": {},
     "output_type": "execute_result"
    }
   ],
   "source": [
    "s=\"sudh\"\n",
    "s[::-1]"
   ]
  },
  {
   "cell_type": "code",
   "execution_count": 10,
   "id": "486850f7",
   "metadata": {},
   "outputs": [
    {
     "name": "stdout",
     "output_type": "stream",
     "text": [
      "enter the string for reversehello\n",
      "olleh\n"
     ]
    }
   ],
   "source": [
    "## using while loop\n",
    "s=input(\"enter the string for reverse\")\n",
    "a=len(s)-1\n",
    "s1=\"\"\n",
    "while a>=0:\n",
    "    s1=s1+s[a]\n",
    "    a=a-1\n",
    "print(s1)\n",
    "    "
   ]
  },
  {
   "cell_type": "code",
   "execution_count": 11,
   "id": "c3885439",
   "metadata": {},
   "outputs": [],
   "source": [
    "## print table of numbers"
   ]
  },
  {
   "cell_type": "code",
   "execution_count": 12,
   "id": "72b1166e",
   "metadata": {},
   "outputs": [
    {
     "name": "stdout",
     "output_type": "stream",
     "text": [
      "enter the number 10\n",
      "10\n",
      "20\n",
      "30\n",
      "40\n",
      "50\n",
      "60\n",
      "70\n",
      "80\n",
      "90\n",
      "100\n"
     ]
    }
   ],
   "source": [
    "number=int(input((\"enter the number \")))\n",
    "i=1\n",
    "while i<=10:\n",
    "    print(number*i)\n",
    "    i=i+1"
   ]
  },
  {
   "cell_type": "code",
   "execution_count": 13,
   "id": "1da733f5",
   "metadata": {},
   "outputs": [
    {
     "name": "stdout",
     "output_type": "stream",
     "text": [
      "1\n",
      "2\n",
      "3\n",
      "4\n",
      "this will be executed when the executed is complete\n"
     ]
    }
   ],
   "source": [
    "n=5\n",
    "i=1\n",
    "while i<n:\n",
    "    print(i)\n",
    "    i=i+1\n",
    "else:\n",
    "    print(\"this will be executed when the executed is complete\")"
   ]
  },
  {
   "cell_type": "code",
   "execution_count": null,
   "id": "b341782a",
   "metadata": {},
   "outputs": [],
   "source": []
  }
 ],
 "metadata": {
  "kernelspec": {
   "display_name": "Python 3 (ipykernel)",
   "language": "python",
   "name": "python3"
  },
  "language_info": {
   "codemirror_mode": {
    "name": "ipython",
    "version": 3
   },
   "file_extension": ".py",
   "mimetype": "text/x-python",
   "name": "python",
   "nbconvert_exporter": "python",
   "pygments_lexer": "ipython3",
   "version": "3.9.13"
  }
 },
 "nbformat": 4,
 "nbformat_minor": 5
}
