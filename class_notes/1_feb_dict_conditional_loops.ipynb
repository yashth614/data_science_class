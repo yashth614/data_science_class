{
 "cells": [
  {
   "cell_type": "markdown",
   "id": "8adc590a",
   "metadata": {},
   "source": [
    "# dictionary"
   ]
  },
  {
   "cell_type": "code",
   "execution_count": 6,
   "id": "fa334d3f",
   "metadata": {},
   "outputs": [],
   "source": [
    "d={}"
   ]
  },
  {
   "cell_type": "code",
   "execution_count": 7,
   "id": "26336ed5",
   "metadata": {},
   "outputs": [
    {
     "data": {
      "text/plain": [
       "dict"
      ]
     },
     "execution_count": 7,
     "metadata": {},
     "output_type": "execute_result"
    }
   ],
   "source": [
    "type(d)"
   ]
  },
  {
   "cell_type": "code",
   "execution_count": 8,
   "id": "70634bd4",
   "metadata": {},
   "outputs": [],
   "source": [
    "d1={\"key\":\"value\"}## key should be unique"
   ]
  },
  {
   "cell_type": "code",
   "execution_count": 9,
   "id": "794b39b7",
   "metadata": {},
   "outputs": [
    {
     "name": "stdout",
     "output_type": "stream",
     "text": [
      "{'key': 'value'}\n"
     ]
    }
   ],
   "source": [
    "print(d1)"
   ]
  },
  {
   "cell_type": "code",
   "execution_count": 10,
   "id": "29938622",
   "metadata": {},
   "outputs": [
    {
     "ename": "SyntaxError",
     "evalue": "invalid syntax (841866179.py, line 1)",
     "output_type": "error",
     "traceback": [
      "\u001b[0;36m  File \u001b[0;32m\"/var/folders/88/0jjz5m896t7_knj_4gdcb0fm0000gn/T/ipykernel_69164/841866179.py\"\u001b[0;36m, line \u001b[0;32m1\u001b[0m\n\u001b[0;31m    d1.insert(\"key\":\"yash\")\u001b[0m\n\u001b[0m                   ^\u001b[0m\n\u001b[0;31mSyntaxError\u001b[0m\u001b[0;31m:\u001b[0m invalid syntax\n"
     ]
    }
   ],
   "source": [
    "d1.insert(\"key\":\"yash\")"
   ]
  },
  {
   "cell_type": "code",
   "execution_count": 11,
   "id": "61b235d7",
   "metadata": {},
   "outputs": [],
   "source": [
    "d2={\"name\":\"yash\",\"email\":\"ythakkar229@gmail.com\",\"number\":83289398}"
   ]
  },
  {
   "cell_type": "code",
   "execution_count": 12,
   "id": "a16373e4",
   "metadata": {},
   "outputs": [
    {
     "data": {
      "text/plain": [
       "{'name': 'yash', 'email': 'ythakkar229@gmail.com', 'number': 83289398}"
      ]
     },
     "execution_count": 12,
     "metadata": {},
     "output_type": "execute_result"
    }
   ],
   "source": [
    "d2"
   ]
  },
  {
   "cell_type": "code",
   "execution_count": 13,
   "id": "c17689db",
   "metadata": {},
   "outputs": [],
   "source": [
    "d3={234:\"yash\"}"
   ]
  },
  {
   "cell_type": "code",
   "execution_count": 14,
   "id": "b115297f",
   "metadata": {},
   "outputs": [
    {
     "ename": "SyntaxError",
     "evalue": "invalid syntax (2315687169.py, line 1)",
     "output_type": "error",
     "traceback": [
      "\u001b[0;36m  File \u001b[0;32m\"/var/folders/88/0jjz5m896t7_knj_4gdcb0fm0000gn/T/ipykernel_69164/2315687169.py\"\u001b[0;36m, line \u001b[0;32m1\u001b[0m\n\u001b[0;31m    d4={@:123}\u001b[0m\n\u001b[0m        ^\u001b[0m\n\u001b[0;31mSyntaxError\u001b[0m\u001b[0;31m:\u001b[0m invalid syntax\n"
     ]
    }
   ],
   "source": [
    "d4={@:123}"
   ]
  },
  {
   "cell_type": "code",
   "execution_count": 15,
   "id": "39a4c800",
   "metadata": {},
   "outputs": [],
   "source": [
    "d4={\"@\":123}"
   ]
  },
  {
   "cell_type": "code",
   "execution_count": 16,
   "id": "019a1136",
   "metadata": {},
   "outputs": [],
   "source": [
    "d4={True:1234}"
   ]
  },
  {
   "cell_type": "code",
   "execution_count": 17,
   "id": "def264ce",
   "metadata": {},
   "outputs": [
    {
     "data": {
      "text/plain": [
       "{True: 1234}"
      ]
     },
     "execution_count": 17,
     "metadata": {},
     "output_type": "execute_result"
    }
   ],
   "source": [
    "d4"
   ]
  },
  {
   "cell_type": "code",
   "execution_count": 18,
   "id": "463bbd89",
   "metadata": {},
   "outputs": [
    {
     "data": {
      "text/plain": [
       "'yash'"
      ]
     },
     "execution_count": 18,
     "metadata": {},
     "output_type": "execute_result"
    }
   ],
   "source": [
    "d3[234]"
   ]
  },
  {
   "cell_type": "code",
   "execution_count": 19,
   "id": "508e616d",
   "metadata": {},
   "outputs": [
    {
     "data": {
      "text/plain": [
       "1234"
      ]
     },
     "execution_count": 19,
     "metadata": {},
     "output_type": "execute_result"
    }
   ],
   "source": [
    "d4[1]"
   ]
  },
  {
   "cell_type": "code",
   "execution_count": 20,
   "id": "cdc4e189",
   "metadata": {},
   "outputs": [],
   "source": [
    "d4={\"name\":\"yash\",\"name\":\"thakkar\"}"
   ]
  },
  {
   "cell_type": "code",
   "execution_count": 21,
   "id": "9166a98a",
   "metadata": {},
   "outputs": [
    {
     "data": {
      "text/plain": [
       "{'name': 'thakkar'}"
      ]
     },
     "execution_count": 21,
     "metadata": {},
     "output_type": "execute_result"
    }
   ],
   "source": [
    "d4"
   ]
  },
  {
   "cell_type": "code",
   "execution_count": 22,
   "id": "724c262a",
   "metadata": {},
   "outputs": [
    {
     "data": {
      "text/plain": [
       "'thakkar'"
      ]
     },
     "execution_count": 22,
     "metadata": {},
     "output_type": "execute_result"
    }
   ],
   "source": [
    "d4[\"name\"]## overwrite"
   ]
  },
  {
   "cell_type": "code",
   "execution_count": 23,
   "id": "0f8a14bb",
   "metadata": {},
   "outputs": [],
   "source": [
    "d6={\"name\":\"sudhanshu\",\"course\":[\"web dev\",\"data_science\"]}"
   ]
  },
  {
   "cell_type": "code",
   "execution_count": 24,
   "id": "a6d2d2aa",
   "metadata": {},
   "outputs": [
    {
     "data": {
      "text/plain": [
       "{'name': 'sudhanshu', 'course': ['web dev', 'data_science']}"
      ]
     },
     "execution_count": 24,
     "metadata": {},
     "output_type": "execute_result"
    }
   ],
   "source": [
    "d6"
   ]
  },
  {
   "cell_type": "code",
   "execution_count": 25,
   "id": "194c8527",
   "metadata": {},
   "outputs": [
    {
     "data": {
      "text/plain": [
       "'web dev'"
      ]
     },
     "execution_count": 25,
     "metadata": {},
     "output_type": "execute_result"
    }
   ],
   "source": [
    "d6[\"course\"][0]"
   ]
  },
  {
   "cell_type": "code",
   "execution_count": 26,
   "id": "28378f81",
   "metadata": {},
   "outputs": [
    {
     "data": {
      "text/plain": [
       "['web dev', 'data_science']"
      ]
     },
     "execution_count": 26,
     "metadata": {},
     "output_type": "execute_result"
    }
   ],
   "source": [
    "d6[\"course\"]"
   ]
  },
  {
   "cell_type": "code",
   "execution_count": 27,
   "id": "f84b6fbf",
   "metadata": {},
   "outputs": [],
   "source": [
    "d7={\"number\":[1,2,3,4,5],\"assignment\":(1,2,3,4,5,6),\"lauch\":{1,2,3,4,5}}"
   ]
  },
  {
   "cell_type": "code",
   "execution_count": 28,
   "id": "5840cc11",
   "metadata": {},
   "outputs": [
    {
     "data": {
      "text/plain": [
       "{'number': [1, 2, 3, 4, 5],\n",
       " 'assignment': (1, 2, 3, 4, 5, 6),\n",
       " 'lauch': {1, 2, 3, 4, 5}}"
      ]
     },
     "execution_count": 28,
     "metadata": {},
     "output_type": "execute_result"
    }
   ],
   "source": [
    "d7"
   ]
  },
  {
   "cell_type": "code",
   "execution_count": 29,
   "id": "caf1dbc7",
   "metadata": {},
   "outputs": [],
   "source": [
    "d7={\"class\":{\"hello\":1,\"yash\":2}}"
   ]
  },
  {
   "cell_type": "code",
   "execution_count": 30,
   "id": "7b68c60e",
   "metadata": {},
   "outputs": [
    {
     "data": {
      "text/plain": [
       "{'class': {'hello': 1, 'yash': 2}}"
      ]
     },
     "execution_count": 30,
     "metadata": {},
     "output_type": "execute_result"
    }
   ],
   "source": [
    "d7"
   ]
  },
  {
   "cell_type": "code",
   "execution_count": 31,
   "id": "25c9787a",
   "metadata": {},
   "outputs": [
    {
     "data": {
      "text/plain": [
       "1"
      ]
     },
     "execution_count": 31,
     "metadata": {},
     "output_type": "execute_result"
    }
   ],
   "source": [
    "d7[\"class\"][\"hello\"]"
   ]
  },
  {
   "cell_type": "code",
   "execution_count": 32,
   "id": "2bcaa5e7",
   "metadata": {},
   "outputs": [],
   "source": [
    "d7[\"mentor\"]=[\"sudhanshu\",\"krish\",\"anurag\"]"
   ]
  },
  {
   "cell_type": "code",
   "execution_count": 33,
   "id": "f0686404",
   "metadata": {},
   "outputs": [
    {
     "data": {
      "text/plain": [
       "{'class': {'hello': 1, 'yash': 2}, 'mentor': ['sudhanshu', 'krish', 'anurag']}"
      ]
     },
     "execution_count": 33,
     "metadata": {},
     "output_type": "execute_result"
    }
   ],
   "source": [
    "d7"
   ]
  },
  {
   "cell_type": "code",
   "execution_count": 34,
   "id": "52791ff2",
   "metadata": {},
   "outputs": [],
   "source": [
    "##to delete particular key pair we use del in this case"
   ]
  },
  {
   "cell_type": "code",
   "execution_count": 35,
   "id": "669a442d",
   "metadata": {},
   "outputs": [],
   "source": [
    "del d7[\"class\"]"
   ]
  },
  {
   "cell_type": "code",
   "execution_count": 36,
   "id": "0d3f8c17",
   "metadata": {},
   "outputs": [
    {
     "data": {
      "text/plain": [
       "{'mentor': ['sudhanshu', 'krish', 'anurag']}"
      ]
     },
     "execution_count": 36,
     "metadata": {},
     "output_type": "execute_result"
    }
   ],
   "source": [
    "d7"
   ]
  },
  {
   "cell_type": "code",
   "execution_count": 37,
   "id": "02224b33",
   "metadata": {},
   "outputs": [
    {
     "data": {
      "text/plain": [
       "dict_keys(['mentor'])"
      ]
     },
     "execution_count": 37,
     "metadata": {},
     "output_type": "execute_result"
    }
   ],
   "source": [
    "d7.keys()"
   ]
  },
  {
   "cell_type": "code",
   "execution_count": 38,
   "id": "9c6e3167",
   "metadata": {},
   "outputs": [
    {
     "data": {
      "text/plain": [
       "dict_items([('mentor', ['sudhanshu', 'krish', 'anurag'])])"
      ]
     },
     "execution_count": 38,
     "metadata": {},
     "output_type": "execute_result"
    }
   ],
   "source": [
    "d7.items()"
   ]
  },
  {
   "cell_type": "code",
   "execution_count": 39,
   "id": "e49cb48b",
   "metadata": {},
   "outputs": [
    {
     "data": {
      "text/plain": [
       "['mentor']"
      ]
     },
     "execution_count": 39,
     "metadata": {},
     "output_type": "execute_result"
    }
   ],
   "source": [
    "list(d7.keys())"
   ]
  },
  {
   "cell_type": "code",
   "execution_count": 40,
   "id": "8dd821f3",
   "metadata": {},
   "outputs": [
    {
     "data": {
      "text/plain": [
       "[['sudhanshu', 'krish', 'anurag']]"
      ]
     },
     "execution_count": 40,
     "metadata": {},
     "output_type": "execute_result"
    }
   ],
   "source": [
    "list(d7.values())"
   ]
  },
  {
   "cell_type": "code",
   "execution_count": 41,
   "id": "72a089c6",
   "metadata": {},
   "outputs": [
    {
     "data": {
      "text/plain": [
       "'sudhanshu'"
      ]
     },
     "execution_count": 41,
     "metadata": {},
     "output_type": "execute_result"
    }
   ],
   "source": [
    "d6.pop(\"name\")##key as argumet and it will ge op the particular value that related to the particular vLUE"
   ]
  },
  {
   "cell_type": "code",
   "execution_count": 42,
   "id": "434b2edc",
   "metadata": {},
   "outputs": [
    {
     "ename": "TypeError",
     "evalue": "pop expected at least 1 argument, got 0",
     "output_type": "error",
     "traceback": [
      "\u001b[0;31m---------------------------------------------------------------------------\u001b[0m",
      "\u001b[0;31mTypeError\u001b[0m                                 Traceback (most recent call last)",
      "\u001b[0;32m/var/folders/88/0jjz5m896t7_knj_4gdcb0fm0000gn/T/ipykernel_69164/150383695.py\u001b[0m in \u001b[0;36m<module>\u001b[0;34m\u001b[0m\n\u001b[0;32m----> 1\u001b[0;31m \u001b[0md6\u001b[0m\u001b[0;34m.\u001b[0m\u001b[0mpop\u001b[0m\u001b[0;34m(\u001b[0m\u001b[0;34m)\u001b[0m\u001b[0;34m\u001b[0m\u001b[0;34m\u001b[0m\u001b[0m\n\u001b[0m",
      "\u001b[0;31mTypeError\u001b[0m: pop expected at least 1 argument, got 0"
     ]
    }
   ],
   "source": [
    "d6.pop()"
   ]
  },
  {
   "cell_type": "markdown",
   "id": "bbec1959",
   "metadata": {},
   "source": [
    "# control statment"
   ]
  },
  {
   "cell_type": "code",
   "execution_count": 43,
   "id": "2a78d8d6",
   "metadata": {},
   "outputs": [
    {
     "name": "stdout",
     "output_type": "stream",
     "text": [
      "enter youtr marks55\n",
      "you will be a part of A2 batch\n"
     ]
    }
   ],
   "source": [
    "marks=int(input(\"enter youtr marks\"))\n",
    "if marks>=80:\n",
    "    print(\"you will be a part of A0 batch\")\n",
    "elif marks>=60 and marks<=80:\n",
    "    print(\"you will be a part of A1 batch\")\n",
    "elif marks>=40 and marks<=60:\n",
    "    print(\"you will be a part of A2 batch\")\n",
    "else:\n",
    "    print(\"you will be a part of A3 batch\")\n",
    "    "
   ]
  },
  {
   "cell_type": "code",
   "execution_count": 44,
   "id": "104d4a7b",
   "metadata": {},
   "outputs": [
    {
     "name": "stdout",
     "output_type": "stream",
     "text": [
      "enter youtr marks45\n"
     ]
    }
   ],
   "source": [
    "marks=input(\"enter youtr marks\")"
   ]
  },
  {
   "cell_type": "code",
   "execution_count": 45,
   "id": "c33a889a",
   "metadata": {},
   "outputs": [
    {
     "name": "stdout",
     "output_type": "stream",
     "text": [
      "enter the price555\n",
      "i will purchase\n"
     ]
    }
   ],
   "source": [
    "price=int(input(\"enter the price\"))\n",
    "if price>1000:\n",
    "    print(\"i will not purchase\")\n",
    "else:\n",
    "    print(\"i will purchase\")"
   ]
  },
  {
   "cell_type": "code",
   "execution_count": 46,
   "id": "6b2434e7",
   "metadata": {},
   "outputs": [
    {
     "name": "stdout",
     "output_type": "stream",
     "text": [
      "enter the price7000\n",
      "i will not purchase\n"
     ]
    }
   ],
   "source": [
    "price=int(input(\"enter the price\"))\n",
    "if price>1000:\n",
    "    print(\"i will not purchase\")"
   ]
  },
  {
   "cell_type": "code",
   "execution_count": 47,
   "id": "5a070bc6",
   "metadata": {},
   "outputs": [
    {
     "name": "stdout",
     "output_type": "stream",
     "text": [
      "enter the price200\n"
     ]
    }
   ],
   "source": [
    "price=int(input(\"enter the price\"))\n",
    "if price>1000:\n",
    "    print(\"i will not purchase\")"
   ]
  },
  {
   "cell_type": "code",
   "execution_count": 48,
   "id": "02d6ae57",
   "metadata": {},
   "outputs": [
    {
     "name": "stdout",
     "output_type": "stream",
     "text": [
      "enter the price9000\n",
      "i will not purchase\n",
      "this is too much\n"
     ]
    }
   ],
   "source": [
    "price=int(input(\"enter the price\"))\n",
    "if price>1000:\n",
    "    print(\"i will not purchase\")\n",
    "    if price>7000:\n",
    "        print(\"this is too much\")\n",
    "    else :\n",
    "        print(\"its ok\")"
   ]
  },
  {
   "cell_type": "markdown",
   "id": "d915568c",
   "metadata": {},
   "source": [
    "# LOOP"
   ]
  },
  {
   "cell_type": "code",
   "execution_count": 68,
   "id": "0d512388",
   "metadata": {},
   "outputs": [],
   "source": [
    "l=[1,2,3,4,5,6,7,8]"
   ]
  },
  {
   "cell_type": "code",
   "execution_count": 69,
   "id": "37b97c8f",
   "metadata": {},
   "outputs": [
    {
     "data": {
      "text/plain": [
       "2"
      ]
     },
     "execution_count": 69,
     "metadata": {},
     "output_type": "execute_result"
    }
   ],
   "source": [
    "l[0]+1"
   ]
  },
  {
   "cell_type": "code",
   "execution_count": 70,
   "id": "41731a98",
   "metadata": {},
   "outputs": [],
   "source": [
    "l1=[]"
   ]
  },
  {
   "cell_type": "code",
   "execution_count": 71,
   "id": "ddfa44bd",
   "metadata": {},
   "outputs": [],
   "source": [
    "l1.append(l[0]+1)"
   ]
  },
  {
   "cell_type": "code",
   "execution_count": 72,
   "id": "e69642e6",
   "metadata": {},
   "outputs": [
    {
     "data": {
      "text/plain": [
       "[2]"
      ]
     },
     "execution_count": 72,
     "metadata": {},
     "output_type": "execute_result"
    }
   ],
   "source": [
    "l1"
   ]
  },
  {
   "cell_type": "code",
   "execution_count": 73,
   "id": "1cf32907",
   "metadata": {},
   "outputs": [],
   "source": [
    "for i in range(0,len(l)):\n",
    "    l[i]=l[i]+1"
   ]
  },
  {
   "cell_type": "code",
   "execution_count": 74,
   "id": "daff1048",
   "metadata": {},
   "outputs": [
    {
     "data": {
      "text/plain": [
       "[2, 3, 4, 5, 6, 7, 8, 9]"
      ]
     },
     "execution_count": 74,
     "metadata": {},
     "output_type": "execute_result"
    }
   ],
   "source": [
    "l"
   ]
  },
  {
   "cell_type": "code",
   "execution_count": 77,
   "id": "cd70911d",
   "metadata": {},
   "outputs": [],
   "source": [
    "l=[\"sudh\",\"kumar\",\"pwskills\",\"course\"]\n",
    "l2=[]"
   ]
  },
  {
   "cell_type": "code",
   "execution_count": 78,
   "id": "94cee131",
   "metadata": {},
   "outputs": [],
   "source": [
    "for i in l:\n",
    "    l2.append(i.upper())"
   ]
  },
  {
   "cell_type": "code",
   "execution_count": 79,
   "id": "30f1065e",
   "metadata": {},
   "outputs": [
    {
     "data": {
      "text/plain": [
       "['SUDH', 'KUMAR', 'PWSKILLS', 'COURSE']"
      ]
     },
     "execution_count": 79,
     "metadata": {},
     "output_type": "execute_result"
    }
   ],
   "source": [
    "l2"
   ]
  },
  {
   "cell_type": "code",
   "execution_count": 95,
   "id": "370bfc9d",
   "metadata": {},
   "outputs": [],
   "source": [
    "list=[1,2,3,4,4,\"sudh\",\"hello\",324.45]\n",
    "l4=[]\n",
    "l5=[]"
   ]
  },
  {
   "cell_type": "code",
   "execution_count": 96,
   "id": "66acf9e6",
   "metadata": {},
   "outputs": [],
   "source": [
    "for i in list:\n",
    "    if (type(i)==int)or(type(i)==float):\n",
    "        l4.append(i)\n",
    "    else:\n",
    "        l5.append(i)"
   ]
  },
  {
   "cell_type": "code",
   "execution_count": 97,
   "id": "82669f55",
   "metadata": {},
   "outputs": [
    {
     "data": {
      "text/plain": [
       "[1, 2, 3, 4, 4, 324.45]"
      ]
     },
     "execution_count": 97,
     "metadata": {},
     "output_type": "execute_result"
    }
   ],
   "source": [
    "l4"
   ]
  },
  {
   "cell_type": "code",
   "execution_count": 98,
   "id": "bcca0467",
   "metadata": {},
   "outputs": [
    {
     "data": {
      "text/plain": [
       "['sudh', 'hello']"
      ]
     },
     "execution_count": 98,
     "metadata": {},
     "output_type": "execute_result"
    }
   ],
   "source": [
    "l5"
   ]
  },
  {
   "cell_type": "code",
   "execution_count": 99,
   "id": "8f0c1e79",
   "metadata": {},
   "outputs": [],
   "source": [
    "s=\"hello\"\n",
    "s1=\"hello2\""
   ]
  },
  {
   "cell_type": "code",
   "execution_count": 100,
   "id": "8e9727a7",
   "metadata": {},
   "outputs": [
    {
     "data": {
      "text/plain": [
       "'hellohello2'"
      ]
     },
     "execution_count": 100,
     "metadata": {},
     "output_type": "execute_result"
    }
   ],
   "source": [
    "s+s1"
   ]
  },
  {
   "cell_type": "code",
   "execution_count": 113,
   "id": "5b6160f9",
   "metadata": {},
   "outputs": [],
   "source": [
    "s=\"helo\""
   ]
  },
  {
   "cell_type": "code",
   "execution_count": 114,
   "id": "4d0322c9",
   "metadata": {},
   "outputs": [
    {
     "data": {
      "text/plain": [
       "True"
      ]
     },
     "execution_count": 114,
     "metadata": {},
     "output_type": "execute_result"
    }
   ],
   "source": [
    "s.isalpha()"
   ]
  },
  {
   "cell_type": "code",
   "execution_count": 115,
   "id": "9b058130",
   "metadata": {},
   "outputs": [
    {
     "name": "stdout",
     "output_type": "stream",
     "text": [
      "I\n",
      "Want\n",
      "To\n",
      "Become\n",
      "A\n",
      "Data\n",
      "Scientist\n"
     ]
    }
   ],
   "source": [
    "s = \"I want to become a data scientist\"\n",
    "\n",
    "for i in s.split():\n",
    "\n",
    "    i.capitalize()\n",
    "\n",
    "    print(i.title())"
   ]
  },
  {
   "cell_type": "code",
   "execution_count": 116,
   "id": "ad7af966",
   "metadata": {},
   "outputs": [
    {
     "data": {
      "text/plain": [
       "'p w s k i l l s'"
      ]
     },
     "execution_count": 116,
     "metadata": {},
     "output_type": "execute_result"
    }
   ],
   "source": [
    "string = \"p w s k i l l s\"\n",
    "\n",
    "\" \".join(string.replace(\" \", \"\"))\n",
    "\n",
    "\n"
   ]
  },
  {
   "cell_type": "code",
   "execution_count": null,
   "id": "e9edbfd8",
   "metadata": {},
   "outputs": [],
   "source": []
  }
 ],
 "metadata": {
  "kernelspec": {
   "display_name": "Python 3 (ipykernel)",
   "language": "python",
   "name": "python3"
  },
  "language_info": {
   "codemirror_mode": {
    "name": "ipython",
    "version": 3
   },
   "file_extension": ".py",
   "mimetype": "text/x-python",
   "name": "python",
   "nbconvert_exporter": "python",
   "pygments_lexer": "ipython3",
   "version": "3.9.13"
  }
 },
 "nbformat": 4,
 "nbformat_minor": 5
}
