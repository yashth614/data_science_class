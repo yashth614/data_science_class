{
 "cells": [
  {
   "cell_type": "code",
   "execution_count": 1,
   "id": "104afc22-650a-4e61-af98-9647a14b4c2b",
   "metadata": {},
   "outputs": [
    {
     "data": {
      "text/plain": [
       "2"
      ]
     },
     "execution_count": 1,
     "metadata": {},
     "output_type": "execute_result"
    }
   ],
   "source": [
    "1+1"
   ]
  },
  {
   "cell_type": "code",
   "execution_count": 2,
   "id": "46a8de3d-5e64-4c04-8ef0-ce8fa7d39e8a",
   "metadata": {},
   "outputs": [
    {
     "data": {
      "text/plain": [
       "30"
      ]
     },
     "execution_count": 2,
     "metadata": {},
     "output_type": "execute_result"
    }
   ],
   "source": [
    "5*6\n"
   ]
  },
  {
   "cell_type": "code",
   "execution_count": 3,
   "id": "bc1102e5-1924-43c6-b85a-a845fef5aff4",
   "metadata": {},
   "outputs": [],
   "source": [
    "a=10"
   ]
  },
  {
   "cell_type": "code",
   "execution_count": 4,
   "id": "b042094b-2893-4b81-aea0-07b1218a2937",
   "metadata": {},
   "outputs": [
    {
     "data": {
      "text/plain": [
       "10"
      ]
     },
     "execution_count": 4,
     "metadata": {},
     "output_type": "execute_result"
    }
   ],
   "source": [
    "a"
   ]
  },
  {
   "cell_type": "code",
   "execution_count": 5,
   "id": "9c1f04ec-84bc-44cb-a515-c22340abe3be",
   "metadata": {},
   "outputs": [],
   "source": [
    "sudh=20"
   ]
  },
  {
   "cell_type": "code",
   "execution_count": 6,
   "id": "51c876bc-484f-4e1e-b317-a27213569f01",
   "metadata": {},
   "outputs": [
    {
     "data": {
      "text/plain": [
       "30"
      ]
     },
     "execution_count": 6,
     "metadata": {},
     "output_type": "execute_result"
    }
   ],
   "source": [
    "a+sudh"
   ]
  },
  {
   "cell_type": "code",
   "execution_count": 7,
   "id": "6d48c88b-a1e8-4975-b2e9-1824b1878b6e",
   "metadata": {},
   "outputs": [
    {
     "data": {
      "text/plain": [
       "int"
      ]
     },
     "execution_count": 7,
     "metadata": {},
     "output_type": "execute_result"
    }
   ],
   "source": [
    "type(a)"
   ]
  },
  {
   "cell_type": "code",
   "execution_count": 8,
   "id": "214af87a-ea5c-43ad-86b0-2da79f754415",
   "metadata": {},
   "outputs": [],
   "source": [
    "b=2.09"
   ]
  },
  {
   "cell_type": "code",
   "execution_count": 9,
   "id": "354e8a0b-c2a9-407f-b5e6-4fddd2468d2f",
   "metadata": {},
   "outputs": [
    {
     "data": {
      "text/plain": [
       "float"
      ]
     },
     "execution_count": 9,
     "metadata": {},
     "output_type": "execute_result"
    }
   ],
   "source": [
    "type(b)"
   ]
  },
  {
   "cell_type": "code",
   "execution_count": 10,
   "id": "8af975bd-2239-44c8-8d85-02539c40a32f",
   "metadata": {},
   "outputs": [],
   "source": [
    "c=45.2134"
   ]
  },
  {
   "cell_type": "code",
   "execution_count": 11,
   "id": "bd8bb08d-fffa-407e-941c-42b7e37638b8",
   "metadata": {},
   "outputs": [
    {
     "data": {
      "text/plain": [
       "float"
      ]
     },
     "execution_count": 11,
     "metadata": {},
     "output_type": "execute_result"
    }
   ],
   "source": [
    "type(c)"
   ]
  },
  {
   "cell_type": "code",
   "execution_count": 12,
   "id": "d3453f33-df35-4c5e-91aa-eef3ae11915f",
   "metadata": {},
   "outputs": [],
   "source": [
    "d=\"sudhanshu\""
   ]
  },
  {
   "cell_type": "code",
   "execution_count": 13,
   "id": "f44457d0-92e4-4cad-a45c-7f2bbedd15a6",
   "metadata": {},
   "outputs": [
    {
     "data": {
      "text/plain": [
       "str"
      ]
     },
     "execution_count": 13,
     "metadata": {},
     "output_type": "execute_result"
    }
   ],
   "source": [
    "type(d)"
   ]
  },
  {
   "cell_type": "code",
   "execution_count": 14,
   "id": "1ddb6b7a-d717-4ca1-a51b-335a174a07f2",
   "metadata": {},
   "outputs": [],
   "source": [
    "n=True"
   ]
  },
  {
   "cell_type": "code",
   "execution_count": 15,
   "id": "f2519bc5-6b19-4a97-9879-921a5333c2b2",
   "metadata": {},
   "outputs": [
    {
     "data": {
      "text/plain": [
       "bool"
      ]
     },
     "execution_count": 15,
     "metadata": {},
     "output_type": "execute_result"
    }
   ],
   "source": [
    "type(n)"
   ]
  },
  {
   "cell_type": "code",
   "execution_count": 16,
   "id": "a88ea004-aab5-4556-a26d-e3f2deee0578",
   "metadata": {},
   "outputs": [],
   "source": [
    "x=False"
   ]
  },
  {
   "cell_type": "code",
   "execution_count": 17,
   "id": "b18d483d-7ff0-47dd-bb9b-6f4d207dab1e",
   "metadata": {},
   "outputs": [
    {
     "data": {
      "text/plain": [
       "bool"
      ]
     },
     "execution_count": 17,
     "metadata": {},
     "output_type": "execute_result"
    }
   ],
   "source": [
    "type(x)"
   ]
  },
  {
   "cell_type": "code",
   "execution_count": 18,
   "id": "0dc27b41-be83-4bc6-aaa1-2e9fc922c98a",
   "metadata": {},
   "outputs": [
    {
     "data": {
      "text/plain": [
       "1"
      ]
     },
     "execution_count": 18,
     "metadata": {},
     "output_type": "execute_result"
    }
   ],
   "source": [
    "n+x"
   ]
  },
  {
   "cell_type": "code",
   "execution_count": 19,
   "id": "c291fba1-2b6d-464e-8dba-7d1f88f0eb57",
   "metadata": {},
   "outputs": [
    {
     "data": {
      "text/plain": [
       "1"
      ]
     },
     "execution_count": 19,
     "metadata": {},
     "output_type": "execute_result"
    }
   ],
   "source": [
    "True*True"
   ]
  },
  {
   "cell_type": "code",
   "execution_count": 20,
   "id": "d5241435-dc28-461f-bab3-6b81cd3f7496",
   "metadata": {},
   "outputs": [
    {
     "data": {
      "text/plain": [
       "0"
      ]
     },
     "execution_count": 20,
     "metadata": {},
     "output_type": "execute_result"
    }
   ],
   "source": [
    "True*False"
   ]
  },
  {
   "cell_type": "code",
   "execution_count": 21,
   "id": "863a82ec-8252-4aed-adfa-4f509bd79b95",
   "metadata": {},
   "outputs": [
    {
     "ename": "ZeroDivisionError",
     "evalue": "division by zero",
     "output_type": "error",
     "traceback": [
      "\u001b[0;31m---------------------------------------------------------------------------\u001b[0m",
      "\u001b[0;31mZeroDivisionError\u001b[0m                         Traceback (most recent call last)",
      "Cell \u001b[0;32mIn[21], line 1\u001b[0m\n\u001b[0;32m----> 1\u001b[0m \u001b[38;5;28;43;01mTrue\u001b[39;49;00m\u001b[38;5;241;43m/\u001b[39;49m\u001b[38;5;28;43;01mFalse\u001b[39;49;00m\n",
      "\u001b[0;31mZeroDivisionError\u001b[0m: division by zero"
     ]
    }
   ],
   "source": [
    "True/False"
   ]
  },
  {
   "cell_type": "code",
   "execution_count": 23,
   "id": "2d9113ff-bc6f-47cb-a28f-bb427a6b3b00",
   "metadata": {},
   "outputs": [
    {
     "data": {
      "text/plain": [
       "0.0"
      ]
     },
     "execution_count": 23,
     "metadata": {},
     "output_type": "execute_result"
    }
   ],
   "source": [
    "False/True"
   ]
  },
  {
   "cell_type": "code",
   "execution_count": 24,
   "id": "2c4e09b2-bf58-4b8f-8b78-ea711b8a3ddd",
   "metadata": {},
   "outputs": [],
   "source": [
    "v=5+8j"
   ]
  },
  {
   "cell_type": "code",
   "execution_count": 25,
   "id": "eea1b279-0bc4-4af9-b279-8ca87acdff21",
   "metadata": {},
   "outputs": [
    {
     "data": {
      "text/plain": [
       "complex"
      ]
     },
     "execution_count": 25,
     "metadata": {},
     "output_type": "execute_result"
    }
   ],
   "source": [
    "type(v)"
   ]
  },
  {
   "cell_type": "code",
   "execution_count": 26,
   "id": "a9ad2eac-3ba2-476f-a739-38c07a2db124",
   "metadata": {},
   "outputs": [
    {
     "data": {
      "text/plain": [
       "5.0"
      ]
     },
     "execution_count": 26,
     "metadata": {},
     "output_type": "execute_result"
    }
   ],
   "source": [
    "v.real"
   ]
  },
  {
   "cell_type": "code",
   "execution_count": 27,
   "id": "0fefd83c-70c4-4bcc-bd35-2e1c3659ec16",
   "metadata": {},
   "outputs": [
    {
     "data": {
      "text/plain": [
       "8.0"
      ]
     },
     "execution_count": 27,
     "metadata": {},
     "output_type": "execute_result"
    }
   ],
   "source": [
    "v.imag"
   ]
  },
  {
   "cell_type": "code",
   "execution_count": 28,
   "id": "c4dbcf8e-f52b-4588-92a8-147781e518ae",
   "metadata": {},
   "outputs": [
    {
     "data": {
      "text/plain": [
       "20"
      ]
     },
     "execution_count": 28,
     "metadata": {},
     "output_type": "execute_result"
    }
   ],
   "source": [
    "sudh"
   ]
  },
  {
   "cell_type": "code",
   "execution_count": 29,
   "id": "b18b1403-cb17-4f34-a68e-113e5e4df5ed",
   "metadata": {},
   "outputs": [],
   "source": [
    "sudh=5+8j"
   ]
  },
  {
   "cell_type": "code",
   "execution_count": 30,
   "id": "687214d6-d8ed-4918-bf4d-f5fa1597a112",
   "metadata": {},
   "outputs": [
    {
     "data": {
      "text/plain": [
       "(5+8j)"
      ]
     },
     "execution_count": 30,
     "metadata": {},
     "output_type": "execute_result"
    }
   ],
   "source": [
    "sudh"
   ]
  },
  {
   "cell_type": "code",
   "execution_count": 31,
   "id": "706d9336-512b-4107-befa-b25760b56042",
   "metadata": {},
   "outputs": [
    {
     "name": "stdout",
     "output_type": "stream",
     "text": [
      "yash thakkar\n"
     ]
    }
   ],
   "source": [
    "print(\"yash thakkar\")"
   ]
  },
  {
   "cell_type": "code",
   "execution_count": 32,
   "id": "2689fc33-15e6-4a21-80ef-48dd4a34b48c",
   "metadata": {},
   "outputs": [],
   "source": [
    "s=\"pwskiils\""
   ]
  },
  {
   "cell_type": "code",
   "execution_count": 33,
   "id": "0c7a4b4e-b650-4a98-8f00-5e0409e5c11d",
   "metadata": {},
   "outputs": [
    {
     "data": {
      "text/plain": [
       "'p'"
      ]
     },
     "execution_count": 33,
     "metadata": {},
     "output_type": "execute_result"
    }
   ],
   "source": [
    "s[0]"
   ]
  },
  {
   "cell_type": "code",
   "execution_count": 34,
   "id": "c96bc0b6-585a-487d-8d65-4c59b6149de2",
   "metadata": {},
   "outputs": [
    {
     "data": {
      "text/plain": [
       "'s'"
      ]
     },
     "execution_count": 34,
     "metadata": {},
     "output_type": "execute_result"
    }
   ],
   "source": [
    "s[2]"
   ]
  },
  {
   "cell_type": "code",
   "execution_count": 35,
   "id": "03c43ee3-15a6-4c17-a520-d321f4998b13",
   "metadata": {},
   "outputs": [
    {
     "data": {
      "text/plain": [
       "'k'"
      ]
     },
     "execution_count": 35,
     "metadata": {},
     "output_type": "execute_result"
    }
   ],
   "source": [
    "s[3]"
   ]
  },
  {
   "cell_type": "code",
   "execution_count": 36,
   "id": "cd604467-b831-4764-8a13-2868c7707932",
   "metadata": {},
   "outputs": [
    {
     "data": {
      "text/plain": [
       "'s'"
      ]
     },
     "execution_count": 36,
     "metadata": {},
     "output_type": "execute_result"
    }
   ],
   "source": [
    "s[-1]"
   ]
  },
  {
   "cell_type": "code",
   "execution_count": 37,
   "id": "0b374f32-3f84-411a-9ac3-b4192b891257",
   "metadata": {},
   "outputs": [
    {
     "data": {
      "text/plain": [
       "'l'"
      ]
     },
     "execution_count": 37,
     "metadata": {},
     "output_type": "execute_result"
    }
   ],
   "source": [
    "s[-2]"
   ]
  },
  {
   "cell_type": "code",
   "execution_count": 38,
   "id": "7f4d32b5-232a-4744-9a86-6d0712fd6af9",
   "metadata": {},
   "outputs": [
    {
     "data": {
      "text/plain": [
       "'pws'"
      ]
     },
     "execution_count": 38,
     "metadata": {},
     "output_type": "execute_result"
    }
   ],
   "source": [
    "s[0:3]"
   ]
  },
  {
   "cell_type": "code",
   "execution_count": 39,
   "id": "8ac25204-7ec6-4c40-8836-e241ba5aac07",
   "metadata": {},
   "outputs": [
    {
     "data": {
      "text/plain": [
       "'pw'"
      ]
     },
     "execution_count": 39,
     "metadata": {},
     "output_type": "execute_result"
    }
   ],
   "source": [
    "s[0:2]"
   ]
  },
  {
   "cell_type": "code",
   "execution_count": 40,
   "id": "1b779a36-08a7-40c8-9f9c-b54f2e39d77e",
   "metadata": {},
   "outputs": [
    {
     "data": {
      "text/plain": [
       "'psil'"
      ]
     },
     "execution_count": 40,
     "metadata": {},
     "output_type": "execute_result"
    }
   ],
   "source": [
    "s[0::2]"
   ]
  },
  {
   "cell_type": "code",
   "execution_count": 41,
   "id": "1a6a6dc1-7ce2-46a0-b4a8-a34736c846f8",
   "metadata": {},
   "outputs": [
    {
     "data": {
      "text/plain": [
       "'psil'"
      ]
     },
     "execution_count": 41,
     "metadata": {},
     "output_type": "execute_result"
    }
   ],
   "source": [
    "s[0:8:2]"
   ]
  },
  {
   "cell_type": "code",
   "execution_count": 42,
   "id": "4fa5afa5-fef9-4177-83a7-57dfc42419b0",
   "metadata": {},
   "outputs": [
    {
     "data": {
      "text/plain": [
       "'psil'"
      ]
     },
     "execution_count": 42,
     "metadata": {},
     "output_type": "execute_result"
    }
   ],
   "source": [
    "s[::2]"
   ]
  },
  {
   "cell_type": "code",
   "execution_count": 43,
   "id": "8119752c-f68b-4d7a-a06b-432c7f5d3d44",
   "metadata": {},
   "outputs": [
    {
     "data": {
      "text/plain": [
       "'skiils'"
      ]
     },
     "execution_count": 43,
     "metadata": {},
     "output_type": "execute_result"
    }
   ],
   "source": [
    "s[2::1]"
   ]
  },
  {
   "cell_type": "code",
   "execution_count": 50,
   "id": "4d6adbed-540e-4f69-9d63-bba224b2141d",
   "metadata": {},
   "outputs": [
    {
     "data": {
      "text/plain": [
       "'sliikswp'"
      ]
     },
     "execution_count": 50,
     "metadata": {},
     "output_type": "execute_result"
    }
   ],
   "source": [
    "s[::-1]"
   ]
  },
  {
   "cell_type": "code",
   "execution_count": 52,
   "id": "2586faa2-021e-48c2-a2e1-5afa7dbdc18a",
   "metadata": {},
   "outputs": [
    {
     "data": {
      "text/plain": [
       "'sliik'"
      ]
     },
     "execution_count": 52,
     "metadata": {},
     "output_type": "execute_result"
    }
   ],
   "source": [
    "s[7:2:-1]"
   ]
  },
  {
   "cell_type": "code",
   "execution_count": 54,
   "id": "737ef3c1-cfc4-41b7-9b6f-b866b47015b6",
   "metadata": {},
   "outputs": [
    {
     "data": {
      "text/plain": [
       "'sliiksw'"
      ]
     },
     "execution_count": 54,
     "metadata": {},
     "output_type": "execute_result"
    }
   ],
   "source": [
    "s[8:0:-1]"
   ]
  },
  {
   "cell_type": "code",
   "execution_count": 55,
   "id": "62c6050f-5529-4b18-a351-53891509cfba",
   "metadata": {},
   "outputs": [
    {
     "data": {
      "text/plain": [
       "''"
      ]
     },
     "execution_count": 55,
     "metadata": {},
     "output_type": "execute_result"
    }
   ],
   "source": [
    "s[-2:-8:1]"
   ]
  },
  {
   "cell_type": "code",
   "execution_count": 56,
   "id": "73e001ae-db49-4d04-83fc-0d7fdf5195df",
   "metadata": {},
   "outputs": [
    {
     "data": {
      "text/plain": [
       "'liiksw'"
      ]
     },
     "execution_count": 56,
     "metadata": {},
     "output_type": "execute_result"
    }
   ],
   "source": [
    "s[-2:-8:-1]"
   ]
  },
  {
   "cell_type": "code",
   "execution_count": 57,
   "id": "410e5d3f-b166-4b67-8271-471790329388",
   "metadata": {},
   "outputs": [
    {
     "data": {
      "text/plain": [
       "'liikswp'"
      ]
     },
     "execution_count": 57,
     "metadata": {},
     "output_type": "execute_result"
    }
   ],
   "source": [
    "s[-2::-1]"
   ]
  },
  {
   "cell_type": "code",
   "execution_count": 58,
   "id": "fc682894-8f9c-4227-841e-9a0b4a417931",
   "metadata": {},
   "outputs": [
    {
     "data": {
      "text/plain": [
       "'sliikswp'"
      ]
     },
     "execution_count": 58,
     "metadata": {},
     "output_type": "execute_result"
    }
   ],
   "source": [
    "s[::-1]"
   ]
  },
  {
   "cell_type": "code",
   "execution_count": 59,
   "id": "b771308a-718a-4519-8435-aaef68964c4a",
   "metadata": {},
   "outputs": [
    {
     "ename": "IndexError",
     "evalue": "string index out of range",
     "output_type": "error",
     "traceback": [
      "\u001b[0;31m---------------------------------------------------------------------------\u001b[0m",
      "\u001b[0;31mIndexError\u001b[0m                                Traceback (most recent call last)",
      "Cell \u001b[0;32mIn[59], line 1\u001b[0m\n\u001b[0;32m----> 1\u001b[0m \u001b[43ms\u001b[49m\u001b[43m[\u001b[49m\u001b[38;5;241;43m90\u001b[39;49m\u001b[43m]\u001b[49m\n",
      "\u001b[0;31mIndexError\u001b[0m: string index out of range"
     ]
    }
   ],
   "source": [
    "s[90]"
   ]
  },
  {
   "cell_type": "code",
   "execution_count": 61,
   "id": "b00266ab-5096-4165-a1c8-4c6bddcb005c",
   "metadata": {},
   "outputs": [
    {
     "data": {
      "text/plain": [
       "''"
      ]
     },
     "execution_count": 61,
     "metadata": {},
     "output_type": "execute_result"
    }
   ],
   "source": [
    "s[:-90:]"
   ]
  },
  {
   "cell_type": "code",
   "execution_count": 63,
   "id": "a3055efb-020c-4c82-8184-b3906188bd40",
   "metadata": {},
   "outputs": [
    {
     "data": {
      "text/plain": [
       "'sliikswp'"
      ]
     },
     "execution_count": 63,
     "metadata": {},
     "output_type": "execute_result"
    }
   ],
   "source": [
    "s[:-90:-1]"
   ]
  },
  {
   "cell_type": "code",
   "execution_count": 64,
   "id": "ca1580d7-2a5f-40e9-8c91-1fb2daac169f",
   "metadata": {},
   "outputs": [],
   "source": [
    "## slicing ke time error nahi dega but indxing ke time error milega"
   ]
  },
  {
   "cell_type": "code",
   "execution_count": 65,
   "id": "c0b3facf-6656-4895-a210-e6cb60452206",
   "metadata": {},
   "outputs": [],
   "source": [
    "c=200"
   ]
  },
  {
   "cell_type": "code",
   "execution_count": 66,
   "id": "22b3a44e-e23f-402d-8bf5-417dcaf33421",
   "metadata": {},
   "outputs": [],
   "source": [
    "## cant find 0"
   ]
  },
  {
   "cell_type": "code",
   "execution_count": 69,
   "id": "d2842231-9a09-4d27-8e33-2b3b488efb24",
   "metadata": {},
   "outputs": [],
   "source": [
    "s1=\"this is my python class\""
   ]
  },
  {
   "cell_type": "markdown",
   "id": "ec7e247d-9d6c-4c30-9dea-5640a261b65f",
   "metadata": {},
   "source": [
    "# String manuplation"
   ]
  },
  {
   "cell_type": "code",
   "execution_count": 72,
   "id": "5d90eb94-83a2-4dfd-9e98-112a0a913ec2",
   "metadata": {},
   "outputs": [
    {
     "data": {
      "text/plain": [
       "23"
      ]
     },
     "execution_count": 72,
     "metadata": {},
     "output_type": "execute_result"
    }
   ],
   "source": [
    "len(s1)"
   ]
  },
  {
   "cell_type": "code",
   "execution_count": 74,
   "id": "3f7450db-1c5f-417f-b7cb-ae4ced9246ac",
   "metadata": {},
   "outputs": [
    {
     "data": {
      "text/plain": [
       "3"
      ]
     },
     "execution_count": 74,
     "metadata": {},
     "output_type": "execute_result"
    }
   ],
   "source": [
    "s1.find('s')## pehla vala s jaha per milega uska index"
   ]
  },
  {
   "cell_type": "code",
   "execution_count": 76,
   "id": "d9ff9721-6bd3-45e9-8606-732217c818a6",
   "metadata": {},
   "outputs": [
    {
     "data": {
      "text/plain": [
       "2"
      ]
     },
     "execution_count": 76,
     "metadata": {},
     "output_type": "execute_result"
    }
   ],
   "source": [
    "s1.find(\"i\")"
   ]
  },
  {
   "cell_type": "code",
   "execution_count": 77,
   "id": "17756c6c-6e15-4776-8a83-832520e14785",
   "metadata": {},
   "outputs": [
    {
     "data": {
      "text/plain": [
       "2"
      ]
     },
     "execution_count": 77,
     "metadata": {},
     "output_type": "execute_result"
    }
   ],
   "source": [
    "s1.find(\"is\")"
   ]
  },
  {
   "cell_type": "code",
   "execution_count": 80,
   "id": "0d9bac9f-7b9b-457d-8ff9-4fad5f13c1f8",
   "metadata": {},
   "outputs": [
    {
     "data": {
      "text/plain": [
       "-1"
      ]
     },
     "execution_count": 80,
     "metadata": {},
     "output_type": "execute_result"
    }
   ],
   "source": [
    "s1.find(\"b\")##-1 ka matlab string me vo char nahi hai"
   ]
  },
  {
   "cell_type": "code",
   "execution_count": 81,
   "id": "7e7ea6b1-c389-409a-9117-5b25debba2e3",
   "metadata": {},
   "outputs": [
    {
     "data": {
      "text/plain": [
       "-1"
      ]
     },
     "execution_count": 81,
     "metadata": {},
     "output_type": "execute_result"
    }
   ],
   "source": [
    "s1.find(\"iS\")"
   ]
  },
  {
   "cell_type": "code",
   "execution_count": 82,
   "id": "45a6ddcd-c456-4a5b-8e91-4e70697b9bce",
   "metadata": {},
   "outputs": [
    {
     "data": {
      "text/plain": [
       "4"
      ]
     },
     "execution_count": 82,
     "metadata": {},
     "output_type": "execute_result"
    }
   ],
   "source": [
    "s1.count(\"s\")"
   ]
  },
  {
   "cell_type": "code",
   "execution_count": 83,
   "id": "5859ef33-0acb-4c47-a657-042b0c1b08af",
   "metadata": {},
   "outputs": [
    {
     "data": {
      "text/plain": [
       "0"
      ]
     },
     "execution_count": 83,
     "metadata": {},
     "output_type": "execute_result"
    }
   ],
   "source": [
    "s1.count(\"st\")"
   ]
  },
  {
   "cell_type": "code",
   "execution_count": 86,
   "id": "059c4c72-19f0-4c45-b5ef-15627a226cf6",
   "metadata": {},
   "outputs": [
    {
     "data": {
      "text/plain": [
       "'THIS IS MY PYTHON CLASS'"
      ]
     },
     "execution_count": 86,
     "metadata": {},
     "output_type": "execute_result"
    }
   ],
   "source": [
    "s1.upper()"
   ]
  },
  {
   "cell_type": "code",
   "execution_count": 88,
   "id": "ab088179-e0e8-4c5a-91ef-0f0c20e2504f",
   "metadata": {},
   "outputs": [],
   "source": [
    "s2=\"THIS IS MY PYTHON CLASS\""
   ]
  },
  {
   "cell_type": "code",
   "execution_count": 89,
   "id": "1f25621e-7874-4cd2-b222-8f08782d5431",
   "metadata": {},
   "outputs": [
    {
     "data": {
      "text/plain": [
       "'this is my python class'"
      ]
     },
     "execution_count": 89,
     "metadata": {},
     "output_type": "execute_result"
    }
   ],
   "source": [
    "s2.lower()"
   ]
  },
  {
   "cell_type": "code",
   "execution_count": 90,
   "id": "19e4aa2a-e83f-4b44-ac57-dc6ef11dc479",
   "metadata": {},
   "outputs": [
    {
     "data": {
      "text/plain": [
       "'This Is My Python Class'"
      ]
     },
     "execution_count": 90,
     "metadata": {},
     "output_type": "execute_result"
    }
   ],
   "source": [
    "s2.title()"
   ]
  },
  {
   "cell_type": "code",
   "execution_count": 92,
   "id": "d974387e-be75-4025-a76c-40d01f1deb39",
   "metadata": {},
   "outputs": [
    {
     "data": {
      "text/plain": [
       "'This is my python class'"
      ]
     },
     "execution_count": 92,
     "metadata": {},
     "output_type": "execute_result"
    }
   ],
   "source": [
    "s1.capitalize()"
   ]
  },
  {
   "cell_type": "code",
   "execution_count": 93,
   "id": "50821753-0591-4a0d-b3f4-096f95722e7c",
   "metadata": {},
   "outputs": [
    {
     "data": {
      "text/plain": [
       "'pwskiils'"
      ]
     },
     "execution_count": 93,
     "metadata": {},
     "output_type": "execute_result"
    }
   ],
   "source": [
    "s"
   ]
  },
  {
   "cell_type": "code",
   "execution_count": 94,
   "id": "84678b58-f4f0-42cf-8303-d03e688eac0f",
   "metadata": {},
   "outputs": [
    {
     "ename": "TypeError",
     "evalue": "can only concatenate str (not \"int\") to str",
     "output_type": "error",
     "traceback": [
      "\u001b[0;31m---------------------------------------------------------------------------\u001b[0m",
      "\u001b[0;31mTypeError\u001b[0m                                 Traceback (most recent call last)",
      "Cell \u001b[0;32mIn[94], line 1\u001b[0m\n\u001b[0;32m----> 1\u001b[0m \u001b[43ms\u001b[49m\u001b[38;5;241;43m+\u001b[39;49m\u001b[38;5;241;43m1\u001b[39;49m\n",
      "\u001b[0;31mTypeError\u001b[0m: can only concatenate str (not \"int\") to str"
     ]
    }
   ],
   "source": [
    "s+1"
   ]
  },
  {
   "cell_type": "code",
   "execution_count": 95,
   "id": "7652dbcc-8818-4fe6-aa30-235649e705fa",
   "metadata": {},
   "outputs": [
    {
     "data": {
      "text/plain": [
       "'pwskiils1'"
      ]
     },
     "execution_count": 95,
     "metadata": {},
     "output_type": "execute_result"
    }
   ],
   "source": [
    "s+\"1\""
   ]
  },
  {
   "cell_type": "code",
   "execution_count": 96,
   "id": "028b1178-1a34-4ca5-80c7-610023d386d8",
   "metadata": {},
   "outputs": [
    {
     "data": {
      "text/plain": [
       "'pwskiils1'"
      ]
     },
     "execution_count": 96,
     "metadata": {},
     "output_type": "execute_result"
    }
   ],
   "source": [
    "s+str(1)"
   ]
  },
  {
   "cell_type": "code",
   "execution_count": 97,
   "id": "b89e9850-4745-48f3-b3c5-6168e315b96b",
   "metadata": {},
   "outputs": [
    {
     "data": {
      "text/plain": [
       "'pwskiilspwskiilspwskiils'"
      ]
     },
     "execution_count": 97,
     "metadata": {},
     "output_type": "execute_result"
    }
   ],
   "source": [
    "s*3"
   ]
  },
  {
   "cell_type": "code",
   "execution_count": 98,
   "id": "00802bca-0307-4ab6-91ab-36441c6226c7",
   "metadata": {},
   "outputs": [
    {
     "ename": "TypeError",
     "evalue": "unsupported operand type(s) for /: 'str' and 'int'",
     "output_type": "error",
     "traceback": [
      "\u001b[0;31m---------------------------------------------------------------------------\u001b[0m",
      "\u001b[0;31mTypeError\u001b[0m                                 Traceback (most recent call last)",
      "Cell \u001b[0;32mIn[98], line 1\u001b[0m\n\u001b[0;32m----> 1\u001b[0m \u001b[43ms\u001b[49m\u001b[38;5;241;43m/\u001b[39;49m\u001b[38;5;241;43m2\u001b[39;49m\n",
      "\u001b[0;31mTypeError\u001b[0m: unsupported operand type(s) for /: 'str' and 'int'"
     ]
    }
   ],
   "source": [
    "s/2"
   ]
  },
  {
   "cell_type": "code",
   "execution_count": 99,
   "id": "f553d19e-bc7d-41ca-b329-ca5f36ec294d",
   "metadata": {},
   "outputs": [
    {
     "ename": "SyntaxError",
     "evalue": "unterminated string literal (detected at line 1) (2591481367.py, line 1)",
     "output_type": "error",
     "traceback": [
      "\u001b[0;36m  Cell \u001b[0;32mIn[99], line 1\u001b[0;36m\u001b[0m\n\u001b[0;31m    don't do copy and paste in my class\u001b[0m\n\u001b[0m       ^\u001b[0m\n\u001b[0;31mSyntaxError\u001b[0m\u001b[0;31m:\u001b[0m unterminated string literal (detected at line 1)\n"
     ]
    }
   ],
   "source": [
    "don't do copy and paste in my class"
   ]
  },
  {
   "cell_type": "code",
   "execution_count": 100,
   "id": "692c3206-c347-4812-900b-7399bfafa7a5",
   "metadata": {},
   "outputs": [
    {
     "data": {
      "text/plain": [
       "\"don't do copy and paste in my class\""
      ]
     },
     "execution_count": 100,
     "metadata": {},
     "output_type": "execute_result"
    }
   ],
   "source": [
    "\"don't do copy and paste in my class\""
   ]
  },
  {
   "cell_type": "code",
   "execution_count": 101,
   "id": "11d6a372-3f30-439d-9e54-395fba0f1e42",
   "metadata": {},
   "outputs": [
    {
     "data": {
      "text/plain": [
       "'don\"t do copy and paste in my class'"
      ]
     },
     "execution_count": 101,
     "metadata": {},
     "output_type": "execute_result"
    }
   ],
   "source": [
    "'don\"t do copy and paste in my class'"
   ]
  },
  {
   "cell_type": "code",
   "execution_count": 104,
   "id": "afeb42a3-1eae-43c5-985d-f58552d726be",
   "metadata": {},
   "outputs": [
    {
     "ename": "SyntaxError",
     "evalue": "invalid syntax (4004022297.py, line 2)",
     "output_type": "error",
     "traceback": [
      "\u001b[0;36m  Cell \u001b[0;32mIn[104], line 2\u001b[0;36m\u001b[0m\n\u001b[0;31m    i have learn XX\u001b[0m\n\u001b[0m      ^\u001b[0m\n\u001b[0;31mSyntaxError\u001b[0m\u001b[0;31m:\u001b[0m invalid syntax\n"
     ]
    }
   ],
   "source": [
    "## for comment use ## \n",
    "\"\"\"i have learn XX\n",
    "xXXX XX\"\"\"\n",
    "# ujbwkjv v\n",
    "# qhov v vhv\n",
    "# qcjuig"
   ]
  },
  {
   "cell_type": "code",
   "execution_count": null,
   "id": "de2ce24f-e865-4d0a-8782-23fe2844fdbf",
   "metadata": {},
   "outputs": [],
   "source": []
  }
 ],
 "metadata": {
  "kernelspec": {
   "display_name": "Python 3 (ipykernel)",
   "language": "python",
   "name": "python3"
  },
  "language_info": {
   "codemirror_mode": {
    "name": "ipython",
    "version": 3
   },
   "file_extension": ".py",
   "mimetype": "text/x-python",
   "name": "python",
   "nbconvert_exporter": "python",
   "pygments_lexer": "ipython3",
   "version": "3.10.8"
  }
 },
 "nbformat": 4,
 "nbformat_minor": 5
}
