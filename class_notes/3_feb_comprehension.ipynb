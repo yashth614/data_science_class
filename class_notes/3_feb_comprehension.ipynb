{
 "cells": [
  {
   "cell_type": "code",
   "execution_count": 1,
   "id": "a64cf03b",
   "metadata": {},
   "outputs": [
    {
     "name": "stdout",
     "output_type": "stream",
     "text": [
      "[1, 4, 9, 16, 25]\n"
     ]
    }
   ],
   "source": [
    "l=[1,2,3,4,5]\n",
    "l1=[]\n",
    "for i in l:\n",
    "    l1.append(i**2)\n",
    "print(l1)"
   ]
  },
  {
   "cell_type": "code",
   "execution_count": 2,
   "id": "a227913f",
   "metadata": {},
   "outputs": [],
   "source": [
    "## one line code"
   ]
  },
  {
   "cell_type": "code",
   "execution_count": 3,
   "id": "986591c1",
   "metadata": {},
   "outputs": [
    {
     "data": {
      "text/plain": [
       "[1, 4, 9, 16, 25]"
      ]
     },
     "execution_count": 3,
     "metadata": {},
     "output_type": "execute_result"
    }
   ],
   "source": [
    "[i**2 for i in l]"
   ]
  },
  {
   "cell_type": "code",
   "execution_count": 4,
   "id": "683b4653",
   "metadata": {},
   "outputs": [],
   "source": [
    "# l is avilable find the number which are the even "
   ]
  },
  {
   "cell_type": "code",
   "execution_count": 7,
   "id": "cc229155",
   "metadata": {},
   "outputs": [
    {
     "data": {
      "text/plain": [
       "[2, 4]"
      ]
     },
     "execution_count": 7,
     "metadata": {},
     "output_type": "execute_result"
    }
   ],
   "source": [
    "[i for i in l if i%2==0]"
   ]
  },
  {
   "cell_type": "code",
   "execution_count": 8,
   "id": "25bf9252",
   "metadata": {},
   "outputs": [],
   "source": [
    "## jo bhi i ko return karna hai vo age rahega baki jo condition hai vo pichhe rahegi"
   ]
  },
  {
   "cell_type": "code",
   "execution_count": 9,
   "id": "fc0c3d21",
   "metadata": {},
   "outputs": [],
   "source": [
    "l=[\"sudh\",\"kumar\",\"datascince\"]"
   ]
  },
  {
   "cell_type": "code",
   "execution_count": 10,
   "id": "4022eb92",
   "metadata": {},
   "outputs": [
    {
     "data": {
      "text/plain": [
       "['SUDH', 'KUMAR', 'DATASCINCE']"
      ]
     },
     "execution_count": 10,
     "metadata": {},
     "output_type": "execute_result"
    }
   ],
   "source": [
    "[i.upper() for i in l]"
   ]
  },
  {
   "cell_type": "markdown",
   "id": "f850f498",
   "metadata": {},
   "source": [
    "# dictionary comprehension"
   ]
  },
  {
   "cell_type": "code",
   "execution_count": 11,
   "id": "f8dfe236",
   "metadata": {},
   "outputs": [],
   "source": [
    "d={\"key1\":1,\"key2\":2,\"key3\":3,\"key4\":4}"
   ]
  },
  {
   "cell_type": "code",
   "execution_count": 12,
   "id": "0ba3b5d4",
   "metadata": {},
   "outputs": [],
   "source": [
    "## jo bhi keys ki values hai unko square karke return kar do"
   ]
  },
  {
   "cell_type": "code",
   "execution_count": 18,
   "id": "7be47882",
   "metadata": {},
   "outputs": [
    {
     "data": {
      "text/plain": [
       "{'key1': 1, 'key2': 4, 'key3': 9, 'key4': 16}"
      ]
     },
     "execution_count": 18,
     "metadata": {},
     "output_type": "execute_result"
    }
   ],
   "source": [
    "{k:v**2 for k,v in d.items()}"
   ]
  },
  {
   "cell_type": "code",
   "execution_count": 19,
   "id": "a54b8af7",
   "metadata": {},
   "outputs": [],
   "source": [
    "# vahi value chahiye jaha pe value greater than 1 ho\n"
   ]
  },
  {
   "cell_type": "code",
   "execution_count": 20,
   "id": "9a00dc33",
   "metadata": {},
   "outputs": [
    {
     "data": {
      "text/plain": [
       "{'key2': 2, 'key3': 3, 'key4': 4}"
      ]
     },
     "execution_count": 20,
     "metadata": {},
     "output_type": "execute_result"
    }
   ],
   "source": [
    "{k:v for k,v in d.items() if v>1}"
   ]
  },
  {
   "cell_type": "code",
   "execution_count": null,
   "id": "f6febfc5",
   "metadata": {},
   "outputs": [],
   "source": []
  }
 ],
 "metadata": {
  "kernelspec": {
   "display_name": "Python 3 (ipykernel)",
   "language": "python",
   "name": "python3"
  },
  "language_info": {
   "codemirror_mode": {
    "name": "ipython",
    "version": 3
   },
   "file_extension": ".py",
   "mimetype": "text/x-python",
   "name": "python",
   "nbconvert_exporter": "python",
   "pygments_lexer": "ipython3",
   "version": "3.9.13"
  }
 },
 "nbformat": 4,
 "nbformat_minor": 5
}
